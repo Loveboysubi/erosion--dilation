# Import the necessary packages
import cv2
import numpy as np

# Create a blank image (100 pixels high, 400 pixels wide)
img = np.zeros((100, 400), dtype='uint8')

# Create the text by using cv2.putText
cv2.putText(img, 'Subishesh', (60, 70), cv2.FONT_HERSHEY_SIMPLEX, 2, (255), 5)
cv2.imshow("Original Image" , img)

# Create the structuring element (kernel) for erosion and dilation
kernel = np.ones((5, 5), np.uint8)

# Erode the image
eroded_img = cv2.erode(img, kernel, iterations=1)
cv2.imshow("Eroded Image" ,eroded_img)

# Dilate the image
dilated_img = cv2.dilate(img, kernel, iterations=1)
cv2.imshow("Dilated Image" , dilated_img)

cv2.waitKey(0)
cv2.destroyAllWindows()
